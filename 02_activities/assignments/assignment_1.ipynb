{
 "cells": [
  {
   "cell_type": "markdown",
   "metadata": {},
   "source": [
    "# Working with parquet files\n",
    "\n",
    "## Objective\n",
    "\n",
    "+ In this assignment, we will use the data downloaded with the module `data_manager` to create features.\n",
    "\n",
    "(11 pts total)\n",
    "\n",
    "## Prerequisites\n",
    "\n",
    "+ This notebook assumes that price data is available to you in the environment variable `PRICE_DATA`. If you have not done so, then execute the notebook `01_materials/labs/2_data_engineering.ipynb` to create this data set.\n"
   ]
  },
  {
   "cell_type": "markdown",
   "metadata": {},
   "source": [
    "+ Load the environment variables using dotenv. (1 pt)"
   ]
  },
  {
   "cell_type": "code",
   "execution_count": 1,
   "metadata": {},
   "outputs": [
    {
     "name": "stdout",
     "output_type": "stream",
     "text": [
      "Data loaded successfully.\n"
     ]
    },
    {
     "data": {
      "text/html": [
       "<div>\n",
       "<style scoped>\n",
       "    .dataframe tbody tr th:only-of-type {\n",
       "        vertical-align: middle;\n",
       "    }\n",
       "\n",
       "    .dataframe tbody tr th {\n",
       "        vertical-align: top;\n",
       "    }\n",
       "\n",
       "    .dataframe thead th {\n",
       "        text-align: right;\n",
       "    }\n",
       "</style>\n",
       "<table border=\"1\" class=\"dataframe\">\n",
       "  <thead>\n",
       "    <tr style=\"text-align: right;\">\n",
       "      <th>Price</th>\n",
       "      <th>Date</th>\n",
       "      <th>Adj Close</th>\n",
       "      <th>Close</th>\n",
       "      <th>High</th>\n",
       "      <th>Low</th>\n",
       "      <th>Open</th>\n",
       "      <th>Volume</th>\n",
       "      <th>sector</th>\n",
       "      <th>subsector</th>\n",
       "      <th>year</th>\n",
       "    </tr>\n",
       "    <tr>\n",
       "      <th>ticker</th>\n",
       "      <th></th>\n",
       "      <th></th>\n",
       "      <th></th>\n",
       "      <th></th>\n",
       "      <th></th>\n",
       "      <th></th>\n",
       "      <th></th>\n",
       "      <th></th>\n",
       "      <th></th>\n",
       "      <th></th>\n",
       "    </tr>\n",
       "  </thead>\n",
       "  <tbody>\n",
       "    <tr>\n",
       "      <th>A</th>\n",
       "      <td>2000-01-03 00:00:00+00:00</td>\n",
       "      <td>43.463020</td>\n",
       "      <td>51.502148</td>\n",
       "      <td>56.464592</td>\n",
       "      <td>48.193848</td>\n",
       "      <td>56.330471</td>\n",
       "      <td>4674353</td>\n",
       "      <td>Health Care</td>\n",
       "      <td>Life Sciences Tools &amp; Services</td>\n",
       "      <td>2000</td>\n",
       "    </tr>\n",
       "    <tr>\n",
       "      <th>A</th>\n",
       "      <td>2000-01-04 00:00:00+00:00</td>\n",
       "      <td>40.142948</td>\n",
       "      <td>47.567955</td>\n",
       "      <td>49.266811</td>\n",
       "      <td>46.316166</td>\n",
       "      <td>48.730328</td>\n",
       "      <td>4765083</td>\n",
       "      <td>Health Care</td>\n",
       "      <td>Life Sciences Tools &amp; Services</td>\n",
       "      <td>2000</td>\n",
       "    </tr>\n",
       "    <tr>\n",
       "      <th>A</th>\n",
       "      <td>2000-01-05 00:00:00+00:00</td>\n",
       "      <td>37.652866</td>\n",
       "      <td>44.617310</td>\n",
       "      <td>47.567955</td>\n",
       "      <td>43.141991</td>\n",
       "      <td>47.389126</td>\n",
       "      <td>5758642</td>\n",
       "      <td>Health Care</td>\n",
       "      <td>Life Sciences Tools &amp; Services</td>\n",
       "      <td>2000</td>\n",
       "    </tr>\n",
       "    <tr>\n",
       "      <th>A</th>\n",
       "      <td>2000-01-06 00:00:00+00:00</td>\n",
       "      <td>36.219196</td>\n",
       "      <td>42.918453</td>\n",
       "      <td>44.349072</td>\n",
       "      <td>41.577251</td>\n",
       "      <td>44.080830</td>\n",
       "      <td>2534434</td>\n",
       "      <td>Health Care</td>\n",
       "      <td>Life Sciences Tools &amp; Services</td>\n",
       "      <td>2000</td>\n",
       "    </tr>\n",
       "    <tr>\n",
       "      <th>A</th>\n",
       "      <td>2000-01-07 00:00:00+00:00</td>\n",
       "      <td>39.237461</td>\n",
       "      <td>46.494991</td>\n",
       "      <td>47.165592</td>\n",
       "      <td>42.203148</td>\n",
       "      <td>42.247852</td>\n",
       "      <td>2819626</td>\n",
       "      <td>Health Care</td>\n",
       "      <td>Life Sciences Tools &amp; Services</td>\n",
       "      <td>2000</td>\n",
       "    </tr>\n",
       "  </tbody>\n",
       "</table>\n",
       "</div>"
      ],
      "text/plain": [
       "Price                       Date  Adj Close      Close       High        Low  \\\n",
       "ticker                                                                         \n",
       "A      2000-01-03 00:00:00+00:00  43.463020  51.502148  56.464592  48.193848   \n",
       "A      2000-01-04 00:00:00+00:00  40.142948  47.567955  49.266811  46.316166   \n",
       "A      2000-01-05 00:00:00+00:00  37.652866  44.617310  47.567955  43.141991   \n",
       "A      2000-01-06 00:00:00+00:00  36.219196  42.918453  44.349072  41.577251   \n",
       "A      2000-01-07 00:00:00+00:00  39.237461  46.494991  47.165592  42.203148   \n",
       "\n",
       "Price        Open   Volume       sector                       subsector  year  \n",
       "ticker                                                                         \n",
       "A       56.330471  4674353  Health Care  Life Sciences Tools & Services  2000  \n",
       "A       48.730328  4765083  Health Care  Life Sciences Tools & Services  2000  \n",
       "A       47.389126  5758642  Health Care  Life Sciences Tools & Services  2000  \n",
       "A       44.080830  2534434  Health Care  Life Sciences Tools & Services  2000  \n",
       "A       42.247852  2819626  Health Care  Life Sciences Tools & Services  2000  "
      ]
     },
     "execution_count": 1,
     "metadata": {},
     "output_type": "execute_result"
    }
   ],
   "source": [
    "# Step 1: Import necessary libraries\n",
    "import os\n",
    "from dotenv import load_dotenv\n",
    "import pandas as pd\n",
    "\n",
    "# Step 2: Load environment variables\n",
    "load_dotenv()\n",
    "\n",
    "# Step 3: Access the PRICE_DATA environment variable\n",
    "price_data_path = os.getenv(\"PRICE_DATA\")\n",
    "\n",
    "# Step 4: Load the parquet data file using the path\n",
    "if price_data_path:\n",
    "    price_data = pd.read_parquet(price_data_path)\n",
    "    print(\"Data loaded successfully.\")\n",
    "else:\n",
    "    print(\"PRICE_DATA environment variable not found. Please ensure it is set in your .env file.\")\n",
    "    \n",
    "# Display the first few rows of the data\n",
    "price_data.head()\n",
    "\n"
   ]
  },
  {
   "cell_type": "code",
   "execution_count": 2,
   "metadata": {},
   "outputs": [
    {
     "name": "stderr",
     "output_type": "stream",
     "text": [
      "c:\\Users\\Oscar\\miniconda3\\envs\\dsi_participant\\lib\\site-packages\\dask\\dataframe\\_pyarrow_compat.py:17: FutureWarning: Minimal version of pyarrow will soon be increased to 14.0.1. You are using 11.0.0. Please consider upgrading.\n",
      "  warnings.warn(\n",
      "C:\\Users\\Oscar\\AppData\\Local\\Temp\\ipykernel_11648\\676544213.py:1: DeprecationWarning: The current Dask DataFrame implementation is deprecated. \n",
      "In a future release, Dask DataFrame will use new implementation that\n",
      "contains several improvements including a logical query planning.\n",
      "The user-facing DataFrame API will remain unchanged.\n",
      "\n",
      "The new implementation is already available and can be enabled by\n",
      "installing the dask-expr library:\n",
      "\n",
      "    $ pip install dask-expr\n",
      "\n",
      "and turning the query planning option on:\n",
      "\n",
      "    >>> import dask\n",
      "    >>> dask.config.set({'dataframe.query-planning': True})\n",
      "    >>> import dask.dataframe as dd\n",
      "\n",
      "API documentation for the new implementation is available at\n",
      "https://docs.dask.org/en/stable/dask-expr-api.html\n",
      "\n",
      "Any feedback can be reported on the Dask issue tracker\n",
      "https://github.com/dask/dask/issues \n",
      "\n",
      "  import dask.dataframe as dd\n"
     ]
    }
   ],
   "source": [
    "import dask.dataframe as dd"
   ]
  },
  {
   "cell_type": "markdown",
   "metadata": {},
   "source": [
    "+ Load the environment variable `PRICE_DATA`.\n",
    "+ Use [glob](https://docs.python.org/3/library/glob.html) to find the path of all parquet files in the directory `PRICE_DATA`.\n",
    "\n",
    "(1pt)"
   ]
  },
  {
   "cell_type": "code",
   "execution_count": 11,
   "metadata": {},
   "outputs": [
    {
     "name": "stdout",
     "output_type": "stream",
     "text": [
      "Found Parquet files: []\n"
     ]
    }
   ],
   "source": [
    "import os\n",
    "from glob import glob\n",
    "\n",
    "import glob\n",
    "\n",
    "# Directory containing the Parquet files\n",
    "directory_path = 'PRICE_DATA'\n",
    "\n",
    "# Search pattern to find all Parquet files in the specified directory\n",
    "search_pattern = f\"{directory_path}/*.parquet\"\n",
    "\n",
    "# Use glob to find all Parquet files in the directory\n",
    "parquet_files = glob.glob(search_pattern)\n",
    "\n",
    "# Print the paths of the found Parquet files\n",
    "print(\"Found Parquet files:\", parquet_files)\n",
    "\n",
    "\n",
    "\n"
   ]
  },
  {
   "cell_type": "markdown",
   "metadata": {},
   "source": [
    "For each ticker and using Dask, do the following:\n",
    "\n",
    "+ Add lags for variables Close and Adj_Close.\n",
    "+ Add returns based on Adjusted Close:\n",
    "    \n",
    "    - `returns`: (Adj Close / Adj Close_lag) - 1\n",
    "\n",
    "+ Add the following range: \n",
    "\n",
    "    - `hi_lo_range`: this is the day's High minus Low.\n",
    "\n",
    "+ Assign the result to `dd_feat`.\n",
    "\n",
    "(4 pt)"
   ]
  },
  {
   "cell_type": "code",
   "execution_count": 2,
   "metadata": {},
   "outputs": [
    {
     "name": "stdout",
     "output_type": "stream",
     "text": [
      "Failed to load file at c:/Users/Oscar/Desktop/DSI/production/02_activities/assignments/your_data.parquet. Please check the file path and ensure the file exists.\n"
     ]
    }
   ],
   "source": [
    "# Write your code below.\n",
    "\n",
    "import dask.dataframe as dd\n",
    "\n",
    "# Example of an absolute path to a Parquet file\n",
    "file_path = 'c:/Users/Oscar/Desktop/DSI/production/02_activities/assignments/your_data.parquet'\n",
    "\n",
    "try:\n",
    "    # Attempt to read the Parquet file\n",
    "    dd_data = dd.read_parquet(file_path)\n",
    "    print(\"File loaded successfully!\")\n",
    "\n",
    "    # Proceed with your data operations here...\n",
    "    \n",
    "except FileNotFoundError:\n",
    "    print(f\"Failed to load file at {file_path}. Please check the file path and ensure the file exists.\")\n",
    "\n",
    "except Exception as e:\n",
    "    print(f\"An unexpected error occurred: {e}\")\n",
    "\n",
    "\n"
   ]
  },
  {
   "cell_type": "markdown",
   "metadata": {},
   "source": [
    "+ Convert the Dask data frame to a pandas data frame. \n",
    "+ Add a rolling average return calculation with a window of 10 days.\n",
    "+ *Tip*: Consider using `.rolling(10).mean()`.\n",
    "\n",
    "(3 pt)"
   ]
  },
  {
   "cell_type": "code",
   "execution_count": 1,
   "metadata": {},
   "outputs": [
    {
     "name": "stderr",
     "output_type": "stream",
     "text": [
      "c:\\Users\\Oscar\\miniconda3\\envs\\dsi_participant\\lib\\site-packages\\dask\\dataframe\\_pyarrow_compat.py:17: FutureWarning: Minimal version of pyarrow will soon be increased to 14.0.1. You are using 11.0.0. Please consider upgrading.\n",
      "  warnings.warn(\n",
      "C:\\Users\\Oscar\\AppData\\Local\\Temp\\ipykernel_32160\\3510089252.py:2: DeprecationWarning: The current Dask DataFrame implementation is deprecated. \n",
      "In a future release, Dask DataFrame will use new implementation that\n",
      "contains several improvements including a logical query planning.\n",
      "The user-facing DataFrame API will remain unchanged.\n",
      "\n",
      "The new implementation is already available and can be enabled by\n",
      "installing the dask-expr library:\n",
      "\n",
      "    $ pip install dask-expr\n",
      "\n",
      "and turning the query planning option on:\n",
      "\n",
      "    >>> import dask\n",
      "    >>> dask.config.set({'dataframe.query-planning': True})\n",
      "    >>> import dask.dataframe as dd\n",
      "\n",
      "API documentation for the new implementation is available at\n",
      "https://docs.dask.org/en/stable/dask-expr-api.html\n",
      "\n",
      "Any feedback can be reported on the Dask issue tracker\n",
      "https://github.com/dask/dask/issues \n",
      "\n",
      "  import dask.dataframe as dd\n"
     ]
    },
    {
     "ename": "NameError",
     "evalue": "name 'dask_df' is not defined",
     "output_type": "error",
     "traceback": [
      "\u001b[1;31m---------------------------------------------------------------------------\u001b[0m",
      "\u001b[1;31mNameError\u001b[0m                                 Traceback (most recent call last)",
      "Cell \u001b[1;32mIn[1], line 4\u001b[0m\n\u001b[0;32m      1\u001b[0m \u001b[38;5;66;03m# Write your code below.\u001b[39;00m\n\u001b[0;32m      2\u001b[0m \u001b[38;5;28;01mimport\u001b[39;00m \u001b[38;5;21;01mdask\u001b[39;00m\u001b[38;5;21;01m.\u001b[39;00m\u001b[38;5;21;01mdataframe\u001b[39;00m \u001b[38;5;28;01mas\u001b[39;00m \u001b[38;5;21;01mdd\u001b[39;00m\n\u001b[1;32m----> 4\u001b[0m pandas_df \u001b[38;5;241m=\u001b[39m \u001b[43mdask_df\u001b[49m\u001b[38;5;241m.\u001b[39mcompute()\n\u001b[0;32m      6\u001b[0m \u001b[38;5;28mprint\u001b[39m(pandas_df)\n",
      "\u001b[1;31mNameError\u001b[0m: name 'dask_df' is not defined"
     ]
    }
   ],
   "source": [
    "# Write your code below.\n",
    "import dask.dataframe as dd\n",
    "\n",
    "pandas_df = dask_df.compute()\n",
    "\n",
    "print(pandas_df)\n",
    "\n",
    "\n"
   ]
  },
  {
   "cell_type": "markdown",
   "metadata": {},
   "source": [
    "It is neccesary to convert to panda because of the size of the dataset. It's better in panda\n"
   ]
  },
  {
   "cell_type": "markdown",
   "metadata": {},
   "source": [
    "## Criteria\n",
    "\n",
    "The [rubric](./assignment_1_rubric_clean.xlsx) contains the criteria for grading."
   ]
  },
  {
   "cell_type": "markdown",
   "metadata": {},
   "source": [
    "## Submission Information\n",
    "\n",
    "🚨 **Please review our [Assignment Submission Guide](https://github.com/UofT-DSI/onboarding/blob/main/onboarding_documents/submissions.md)** 🚨 for detailed instructions on how to format, branch, and submit your work. Following these guidelines is crucial for your submissions to be evaluated correctly.\n",
    "\n",
    "### Submission Parameters:\n",
    "* Submission Due Date: `HH:MM AM/PM - DD/MM/YYYY`\n",
    "* The branch name for your repo should be: `assignment-1`\n",
    "* What to submit for this assignment:\n",
    "    * This Jupyter Notebook (assignment_1.ipynb) should be populated and should be the only change in your pull request.\n",
    "* What the pull request link should look like for this assignment: `https://github.com/<your_github_username>/production/pull/<pr_id>`\n",
    "    * Open a private window in your browser. Copy and paste the link to your pull request into the address bar. Make sure you can see your pull request properly. This helps the technical facilitator and learning support staff review your submission easily.\n",
    "\n",
    "Checklist:\n",
    "- [ ] Created a branch with the correct naming convention.\n",
    "- [ ] Ensured that the repository is public.\n",
    "- [ ] Reviewed the PR description guidelines and adhered to them.\n",
    "- [ ] Verify that the link is accessible in a private browser window.\n",
    "\n",
    "If you encounter any difficulties or have questions, please don't hesitate to reach out to our team via our Slack at `#cohort-3-help`. Our Technical Facilitators and Learning Support staff are here to help you navigate any challenges."
   ]
  }
 ],
 "metadata": {
  "kernelspec": {
   "display_name": "dsi_participant",
   "language": "python",
   "name": "python3"
  },
  "language_info": {
   "codemirror_mode": {
    "name": "ipython",
    "version": 3
   },
   "file_extension": ".py",
   "mimetype": "text/x-python",
   "name": "python",
   "nbconvert_exporter": "python",
   "pygments_lexer": "ipython3",
   "version": "3.9.15"
  }
 },
 "nbformat": 4,
 "nbformat_minor": 2
}
